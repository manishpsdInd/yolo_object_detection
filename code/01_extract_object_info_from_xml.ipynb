{
 "cells": [
  {
   "cell_type": "code",
   "id": "initial_id",
   "metadata": {
    "collapsed": true,
    "ExecuteTime": {
     "end_time": "2025-05-07T14:21:30.850418Z",
     "start_time": "2025-05-07T14:21:30.845917Z"
    }
   },
   "source": [
    "import os\n",
    "from glob import glob\n",
    "import pandas as pd\n",
    "from functools import reduce\n",
    "from xml.etree import ElementTree as et\n",
    "from config import region"
   ],
   "outputs": [],
   "execution_count": 6
  },
  {
   "metadata": {
    "ExecuteTime": {
     "end_time": "2025-05-07T14:21:30.874680Z",
     "start_time": "2025-05-07T14:21:30.858479Z"
    }
   },
   "cell_type": "code",
   "source": "xml_list = glob(region + '/data/data_images/*.xml')",
   "id": "f4f5c91b06b9ee46",
   "outputs": [],
   "execution_count": 7
  },
  {
   "metadata": {
    "ExecuteTime": {
     "end_time": "2025-05-07T14:21:30.884713Z",
     "start_time": "2025-05-07T14:21:30.881122Z"
    }
   },
   "cell_type": "code",
   "source": "len(xml_list)",
   "id": "51fcb667a5bdec2a",
   "outputs": [
    {
     "data": {
      "text/plain": [
       "5012"
      ]
     },
     "execution_count": 8,
     "metadata": {},
     "output_type": "execute_result"
    }
   ],
   "execution_count": 8
  },
  {
   "metadata": {
    "ExecuteTime": {
     "end_time": "2025-05-07T14:21:30.893986Z",
     "start_time": "2025-05-07T14:21:30.891629Z"
    }
   },
   "cell_type": "code",
   "source": "xml_list = list(map(lambda x: x.replace('\\\\','/'), xml_list))",
   "id": "425e033bff35b266",
   "outputs": [],
   "execution_count": 9
  },
  {
   "metadata": {
    "ExecuteTime": {
     "end_time": "2025-05-07T14:21:30.908805Z",
     "start_time": "2025-05-07T14:21:30.905945Z"
    }
   },
   "cell_type": "code",
   "source": "len(xml_list)",
   "id": "d5b27be1dbdfba5",
   "outputs": [
    {
     "data": {
      "text/plain": [
       "5012"
      ]
     },
     "execution_count": 10,
     "metadata": {},
     "output_type": "execute_result"
    }
   ],
   "execution_count": 10
  },
  {
   "metadata": {
    "ExecuteTime": {
     "end_time": "2025-05-07T14:21:30.924678Z",
     "start_time": "2025-05-07T14:21:30.921896Z"
    }
   },
   "cell_type": "code",
   "source": [
    "tree = et.parse(xml_list[0])\n",
    "root = tree.getroot()\n",
    "print(root)\n",
    "print(root.tag)"
   ],
   "id": "e0f6af4ee3aabfaf",
   "outputs": [
    {
     "name": "stdout",
     "output_type": "stream",
     "text": [
      "<Element 'annotation' at 0x108940040>\n",
      "annotation\n"
     ]
    }
   ],
   "execution_count": 11
  },
  {
   "metadata": {
    "ExecuteTime": {
     "end_time": "2025-05-07T14:21:30.934415Z",
     "start_time": "2025-05-07T14:21:30.931962Z"
    }
   },
   "cell_type": "code",
   "source": [
    "image_name = root.find('filename').text\n",
    "print(image_name)"
   ],
   "id": "a755c841b6c09f0e",
   "outputs": [
    {
     "name": "stdout",
     "output_type": "stream",
     "text": [
      "007826.jpg\n"
     ]
    }
   ],
   "execution_count": 12
  },
  {
   "metadata": {
    "ExecuteTime": {
     "end_time": "2025-05-07T14:21:30.952558Z",
     "start_time": "2025-05-07T14:21:30.950142Z"
    }
   },
   "cell_type": "code",
   "source": [
    "width = root.find('size').find('width').text\n",
    "height = root.find('size').find('height').text\n",
    "print(width + ' x ' + height)"
   ],
   "id": "d37ec1aec3341f5b",
   "outputs": [
    {
     "name": "stdout",
     "output_type": "stream",
     "text": [
      "500 x 375\n"
     ]
    }
   ],
   "execution_count": 13
  },
  {
   "metadata": {
    "ExecuteTime": {
     "end_time": "2025-05-07T14:21:30.966490Z",
     "start_time": "2025-05-07T14:21:30.963966Z"
    }
   },
   "cell_type": "code",
   "source": [
    "objs = root.findall('object')\n",
    "objs"
   ],
   "id": "309f8b4679bb3df6",
   "outputs": [
    {
     "data": {
      "text/plain": [
       "[<Element 'object' at 0x108940630>,\n",
       " <Element 'object' at 0x108940950>,\n",
       " <Element 'object' at 0x108940c70>,\n",
       " <Element 'object' at 0x108940f90>,\n",
       " <Element 'object' at 0x108a7c310>,\n",
       " <Element 'object' at 0x108a7c630>,\n",
       " <Element 'object' at 0x108a7c950>]"
      ]
     },
     "execution_count": 14,
     "metadata": {},
     "output_type": "execute_result"
    }
   ],
   "execution_count": 14
  },
  {
   "metadata": {
    "ExecuteTime": {
     "end_time": "2025-05-07T14:21:30.981799Z",
     "start_time": "2025-05-07T14:21:30.978922Z"
    }
   },
   "cell_type": "code",
   "source": [
    "parser=[]\n",
    "for obj in objs:\n",
    "    name = obj.find('name').text\n",
    "    bndbox = obj.find('bndbox')\n",
    "    xmin = bndbox.find('xmin').text\n",
    "    xmax = bndbox.find('xmax').text\n",
    "    ymin = bndbox.find('ymin').text\n",
    "    ymax = bndbox.find('ymax').text\n",
    "    parser.append([image_name, width, height, name, xmin, ymin, xmax, ymax])\n",
    "print(parser)"
   ],
   "id": "aeb3ff66fe5d6643",
   "outputs": [
    {
     "name": "stdout",
     "output_type": "stream",
     "text": [
      "[['007826.jpg', '500', '375', 'diningtable', '80', '217', '320', '273'], ['007826.jpg', '500', '375', 'chair', '197', '193', '257', '326'], ['007826.jpg', '500', '375', 'chair', '139', '184', '185', '231'], ['007826.jpg', '500', '375', 'chair', '258', '180', '312', '314'], ['007826.jpg', '500', '375', 'chair', '10', '195', '93', '358'], ['007826.jpg', '500', '375', 'chair', '82', '252', '243', '372'], ['007826.jpg', '500', '375', 'chair', '43', '319', '144', '375']]\n"
     ]
    }
   ],
   "execution_count": 15
  },
  {
   "metadata": {
    "ExecuteTime": {
     "end_time": "2025-05-07T14:21:30.993656Z",
     "start_time": "2025-05-07T14:21:30.991539Z"
    }
   },
   "cell_type": "code",
   "source": [
    "parse_all = reduce(lambda x, y: x+y, parser)\n",
    "print(parse_all)"
   ],
   "id": "bbcd8e3295402d98",
   "outputs": [
    {
     "name": "stdout",
     "output_type": "stream",
     "text": [
      "['007826.jpg', '500', '375', 'diningtable', '80', '217', '320', '273', '007826.jpg', '500', '375', 'chair', '197', '193', '257', '326', '007826.jpg', '500', '375', 'chair', '139', '184', '185', '231', '007826.jpg', '500', '375', 'chair', '258', '180', '312', '314', '007826.jpg', '500', '375', 'chair', '10', '195', '93', '358', '007826.jpg', '500', '375', 'chair', '82', '252', '243', '372', '007826.jpg', '500', '375', 'chair', '43', '319', '144', '375']\n"
     ]
    }
   ],
   "execution_count": 16
  },
  {
   "metadata": {
    "ExecuteTime": {
     "end_time": "2025-05-07T14:21:31.016490Z",
     "start_time": "2025-05-07T14:21:31.004766Z"
    }
   },
   "cell_type": "code",
   "source": [
    "df = pd.DataFrame(parser, columns=['filename', 'width', 'height', 'name', 'xmin', 'ymin', 'xmax', 'ymax'])\n",
    "df.head()"
   ],
   "id": "4a879964d744bd83",
   "outputs": [
    {
     "data": {
      "text/plain": [
       "     filename width height         name xmin ymin xmax ymax\n",
       "0  007826.jpg   500    375  diningtable   80  217  320  273\n",
       "1  007826.jpg   500    375        chair  197  193  257  326\n",
       "2  007826.jpg   500    375        chair  139  184  185  231\n",
       "3  007826.jpg   500    375        chair  258  180  312  314\n",
       "4  007826.jpg   500    375        chair   10  195   93  358"
      ],
      "text/html": [
       "<div>\n",
       "<style scoped>\n",
       "    .dataframe tbody tr th:only-of-type {\n",
       "        vertical-align: middle;\n",
       "    }\n",
       "\n",
       "    .dataframe tbody tr th {\n",
       "        vertical-align: top;\n",
       "    }\n",
       "\n",
       "    .dataframe thead th {\n",
       "        text-align: right;\n",
       "    }\n",
       "</style>\n",
       "<table border=\"1\" class=\"dataframe\">\n",
       "  <thead>\n",
       "    <tr style=\"text-align: right;\">\n",
       "      <th></th>\n",
       "      <th>filename</th>\n",
       "      <th>width</th>\n",
       "      <th>height</th>\n",
       "      <th>name</th>\n",
       "      <th>xmin</th>\n",
       "      <th>ymin</th>\n",
       "      <th>xmax</th>\n",
       "      <th>ymax</th>\n",
       "    </tr>\n",
       "  </thead>\n",
       "  <tbody>\n",
       "    <tr>\n",
       "      <th>0</th>\n",
       "      <td>007826.jpg</td>\n",
       "      <td>500</td>\n",
       "      <td>375</td>\n",
       "      <td>diningtable</td>\n",
       "      <td>80</td>\n",
       "      <td>217</td>\n",
       "      <td>320</td>\n",
       "      <td>273</td>\n",
       "    </tr>\n",
       "    <tr>\n",
       "      <th>1</th>\n",
       "      <td>007826.jpg</td>\n",
       "      <td>500</td>\n",
       "      <td>375</td>\n",
       "      <td>chair</td>\n",
       "      <td>197</td>\n",
       "      <td>193</td>\n",
       "      <td>257</td>\n",
       "      <td>326</td>\n",
       "    </tr>\n",
       "    <tr>\n",
       "      <th>2</th>\n",
       "      <td>007826.jpg</td>\n",
       "      <td>500</td>\n",
       "      <td>375</td>\n",
       "      <td>chair</td>\n",
       "      <td>139</td>\n",
       "      <td>184</td>\n",
       "      <td>185</td>\n",
       "      <td>231</td>\n",
       "    </tr>\n",
       "    <tr>\n",
       "      <th>3</th>\n",
       "      <td>007826.jpg</td>\n",
       "      <td>500</td>\n",
       "      <td>375</td>\n",
       "      <td>chair</td>\n",
       "      <td>258</td>\n",
       "      <td>180</td>\n",
       "      <td>312</td>\n",
       "      <td>314</td>\n",
       "    </tr>\n",
       "    <tr>\n",
       "      <th>4</th>\n",
       "      <td>007826.jpg</td>\n",
       "      <td>500</td>\n",
       "      <td>375</td>\n",
       "      <td>chair</td>\n",
       "      <td>10</td>\n",
       "      <td>195</td>\n",
       "      <td>93</td>\n",
       "      <td>358</td>\n",
       "    </tr>\n",
       "  </tbody>\n",
       "</table>\n",
       "</div>"
      ]
     },
     "execution_count": 17,
     "metadata": {},
     "output_type": "execute_result"
    }
   ],
   "execution_count": 17
  },
  {
   "metadata": {
    "ExecuteTime": {
     "end_time": "2025-05-07T14:21:31.028641Z",
     "start_time": "2025-05-07T14:21:31.025670Z"
    }
   },
   "cell_type": "code",
   "source": "df.shape",
   "id": "e3caf86ce4e9c4ba",
   "outputs": [
    {
     "data": {
      "text/plain": [
       "(7, 8)"
      ]
     },
     "execution_count": 18,
     "metadata": {},
     "output_type": "execute_result"
    }
   ],
   "execution_count": 18
  },
  {
   "metadata": {
    "ExecuteTime": {
     "end_time": "2025-05-07T14:21:31.955586Z",
     "start_time": "2025-05-07T14:21:31.052166Z"
    }
   },
   "cell_type": "code",
   "source": [
    "parser1=[]\n",
    "for img_details in xml_list:\n",
    "    tree1 = et.parse(img_details)\n",
    "    root1 = tree1.getroot()\n",
    "    objs1 = root1.findall('object')\n",
    "    image_name1 = root1.find('filename').text\n",
    "    width1 = root1.find('size').find('width').text\n",
    "    height1 = root1.find('size').find('height').text\n",
    "    for obj1 in objs1:\n",
    "        name1 = obj1.find('name').text\n",
    "        bndbox1 = obj1.find('bndbox')\n",
    "        xmin1 = bndbox1.find('xmin').text\n",
    "        xmax1 = bndbox1.find('xmax').text\n",
    "        ymin1 = bndbox1.find('ymin').text\n",
    "        ymax1 = bndbox1.find('ymax').text\n",
    "        parser1.append([image_name1, width1, height1, name1, xmin1, ymin1, xmax1, ymax1])\n",
    "df = pd.DataFrame(parser1, columns=['filename', 'width', 'height', 'name', 'xmin', 'ymin', 'xmax', 'ymax'])"
   ],
   "id": "969b3d5abeed41ff",
   "outputs": [],
   "execution_count": 19
  },
  {
   "metadata": {
    "ExecuteTime": {
     "end_time": "2025-05-07T14:21:31.986903Z",
     "start_time": "2025-05-07T14:21:31.980633Z"
    }
   },
   "cell_type": "code",
   "source": "df.head(15)",
   "id": "459d9040bd1ca83a",
   "outputs": [
    {
     "data": {
      "text/plain": [
       "      filename width height         name xmin ymin xmax ymax\n",
       "0   007826.jpg   500    375  diningtable   80  217  320  273\n",
       "1   007826.jpg   500    375        chair  197  193  257  326\n",
       "2   007826.jpg   500    375        chair  139  184  185  231\n",
       "3   007826.jpg   500    375        chair  258  180  312  314\n",
       "4   007826.jpg   500    375        chair   10  195   93  358\n",
       "5   007826.jpg   500    375        chair   82  252  243  372\n",
       "6   007826.jpg   500    375        chair   43  319  144  375\n",
       "7   002786.jpg   500    332        horse   80   97  348  272\n",
       "8   002786.jpg   500    332       person  201   52  258  202\n",
       "9   006286.jpg   500    375       person   80   88  405  375\n",
       "10  006286.jpg   500    375       person  436  147  475  209\n",
       "11  006286.jpg   500    375       person  381  145  428  191\n",
       "12  006286.jpg   500    375  diningtable  402  219  500  375\n",
       "13  006286.jpg   500    375  diningtable  347  177  405  216\n",
       "14  006286.jpg   500    375  diningtable  160  167  203  188"
      ],
      "text/html": [
       "<div>\n",
       "<style scoped>\n",
       "    .dataframe tbody tr th:only-of-type {\n",
       "        vertical-align: middle;\n",
       "    }\n",
       "\n",
       "    .dataframe tbody tr th {\n",
       "        vertical-align: top;\n",
       "    }\n",
       "\n",
       "    .dataframe thead th {\n",
       "        text-align: right;\n",
       "    }\n",
       "</style>\n",
       "<table border=\"1\" class=\"dataframe\">\n",
       "  <thead>\n",
       "    <tr style=\"text-align: right;\">\n",
       "      <th></th>\n",
       "      <th>filename</th>\n",
       "      <th>width</th>\n",
       "      <th>height</th>\n",
       "      <th>name</th>\n",
       "      <th>xmin</th>\n",
       "      <th>ymin</th>\n",
       "      <th>xmax</th>\n",
       "      <th>ymax</th>\n",
       "    </tr>\n",
       "  </thead>\n",
       "  <tbody>\n",
       "    <tr>\n",
       "      <th>0</th>\n",
       "      <td>007826.jpg</td>\n",
       "      <td>500</td>\n",
       "      <td>375</td>\n",
       "      <td>diningtable</td>\n",
       "      <td>80</td>\n",
       "      <td>217</td>\n",
       "      <td>320</td>\n",
       "      <td>273</td>\n",
       "    </tr>\n",
       "    <tr>\n",
       "      <th>1</th>\n",
       "      <td>007826.jpg</td>\n",
       "      <td>500</td>\n",
       "      <td>375</td>\n",
       "      <td>chair</td>\n",
       "      <td>197</td>\n",
       "      <td>193</td>\n",
       "      <td>257</td>\n",
       "      <td>326</td>\n",
       "    </tr>\n",
       "    <tr>\n",
       "      <th>2</th>\n",
       "      <td>007826.jpg</td>\n",
       "      <td>500</td>\n",
       "      <td>375</td>\n",
       "      <td>chair</td>\n",
       "      <td>139</td>\n",
       "      <td>184</td>\n",
       "      <td>185</td>\n",
       "      <td>231</td>\n",
       "    </tr>\n",
       "    <tr>\n",
       "      <th>3</th>\n",
       "      <td>007826.jpg</td>\n",
       "      <td>500</td>\n",
       "      <td>375</td>\n",
       "      <td>chair</td>\n",
       "      <td>258</td>\n",
       "      <td>180</td>\n",
       "      <td>312</td>\n",
       "      <td>314</td>\n",
       "    </tr>\n",
       "    <tr>\n",
       "      <th>4</th>\n",
       "      <td>007826.jpg</td>\n",
       "      <td>500</td>\n",
       "      <td>375</td>\n",
       "      <td>chair</td>\n",
       "      <td>10</td>\n",
       "      <td>195</td>\n",
       "      <td>93</td>\n",
       "      <td>358</td>\n",
       "    </tr>\n",
       "    <tr>\n",
       "      <th>5</th>\n",
       "      <td>007826.jpg</td>\n",
       "      <td>500</td>\n",
       "      <td>375</td>\n",
       "      <td>chair</td>\n",
       "      <td>82</td>\n",
       "      <td>252</td>\n",
       "      <td>243</td>\n",
       "      <td>372</td>\n",
       "    </tr>\n",
       "    <tr>\n",
       "      <th>6</th>\n",
       "      <td>007826.jpg</td>\n",
       "      <td>500</td>\n",
       "      <td>375</td>\n",
       "      <td>chair</td>\n",
       "      <td>43</td>\n",
       "      <td>319</td>\n",
       "      <td>144</td>\n",
       "      <td>375</td>\n",
       "    </tr>\n",
       "    <tr>\n",
       "      <th>7</th>\n",
       "      <td>002786.jpg</td>\n",
       "      <td>500</td>\n",
       "      <td>332</td>\n",
       "      <td>horse</td>\n",
       "      <td>80</td>\n",
       "      <td>97</td>\n",
       "      <td>348</td>\n",
       "      <td>272</td>\n",
       "    </tr>\n",
       "    <tr>\n",
       "      <th>8</th>\n",
       "      <td>002786.jpg</td>\n",
       "      <td>500</td>\n",
       "      <td>332</td>\n",
       "      <td>person</td>\n",
       "      <td>201</td>\n",
       "      <td>52</td>\n",
       "      <td>258</td>\n",
       "      <td>202</td>\n",
       "    </tr>\n",
       "    <tr>\n",
       "      <th>9</th>\n",
       "      <td>006286.jpg</td>\n",
       "      <td>500</td>\n",
       "      <td>375</td>\n",
       "      <td>person</td>\n",
       "      <td>80</td>\n",
       "      <td>88</td>\n",
       "      <td>405</td>\n",
       "      <td>375</td>\n",
       "    </tr>\n",
       "    <tr>\n",
       "      <th>10</th>\n",
       "      <td>006286.jpg</td>\n",
       "      <td>500</td>\n",
       "      <td>375</td>\n",
       "      <td>person</td>\n",
       "      <td>436</td>\n",
       "      <td>147</td>\n",
       "      <td>475</td>\n",
       "      <td>209</td>\n",
       "    </tr>\n",
       "    <tr>\n",
       "      <th>11</th>\n",
       "      <td>006286.jpg</td>\n",
       "      <td>500</td>\n",
       "      <td>375</td>\n",
       "      <td>person</td>\n",
       "      <td>381</td>\n",
       "      <td>145</td>\n",
       "      <td>428</td>\n",
       "      <td>191</td>\n",
       "    </tr>\n",
       "    <tr>\n",
       "      <th>12</th>\n",
       "      <td>006286.jpg</td>\n",
       "      <td>500</td>\n",
       "      <td>375</td>\n",
       "      <td>diningtable</td>\n",
       "      <td>402</td>\n",
       "      <td>219</td>\n",
       "      <td>500</td>\n",
       "      <td>375</td>\n",
       "    </tr>\n",
       "    <tr>\n",
       "      <th>13</th>\n",
       "      <td>006286.jpg</td>\n",
       "      <td>500</td>\n",
       "      <td>375</td>\n",
       "      <td>diningtable</td>\n",
       "      <td>347</td>\n",
       "      <td>177</td>\n",
       "      <td>405</td>\n",
       "      <td>216</td>\n",
       "    </tr>\n",
       "    <tr>\n",
       "      <th>14</th>\n",
       "      <td>006286.jpg</td>\n",
       "      <td>500</td>\n",
       "      <td>375</td>\n",
       "      <td>diningtable</td>\n",
       "      <td>160</td>\n",
       "      <td>167</td>\n",
       "      <td>203</td>\n",
       "      <td>188</td>\n",
       "    </tr>\n",
       "  </tbody>\n",
       "</table>\n",
       "</div>"
      ]
     },
     "execution_count": 20,
     "metadata": {},
     "output_type": "execute_result"
    }
   ],
   "execution_count": 20
  },
  {
   "metadata": {
    "ExecuteTime": {
     "end_time": "2025-05-07T14:21:32.026634Z",
     "start_time": "2025-05-07T14:21:32.023882Z"
    }
   },
   "cell_type": "code",
   "source": "df.shape",
   "id": "b66243dc5e7729f6",
   "outputs": [
    {
     "data": {
      "text/plain": [
       "(15663, 8)"
      ]
     },
     "execution_count": 21,
     "metadata": {},
     "output_type": "execute_result"
    }
   ],
   "execution_count": 21
  },
  {
   "metadata": {
    "ExecuteTime": {
     "end_time": "2025-05-07T14:21:32.063752Z",
     "start_time": "2025-05-07T14:21:32.060369Z"
    }
   },
   "cell_type": "code",
   "source": "len(xml_list)",
   "id": "ae7e528a6a2d63e5",
   "outputs": [
    {
     "data": {
      "text/plain": [
       "5012"
      ]
     },
     "execution_count": 22,
     "metadata": {},
     "output_type": "execute_result"
    }
   ],
   "execution_count": 22
  },
  {
   "metadata": {
    "ExecuteTime": {
     "end_time": "2025-05-07T14:21:32.089555Z",
     "start_time": "2025-05-07T14:21:32.081776Z"
    }
   },
   "cell_type": "code",
   "source": [
    "images = df['filename'].unique()\n",
    "len(images)"
   ],
   "id": "207cb4475a3fc210",
   "outputs": [
    {
     "data": {
      "text/plain": [
       "5012"
      ]
     },
     "execution_count": 23,
     "metadata": {},
     "output_type": "execute_result"
    }
   ],
   "execution_count": 23
  },
  {
   "metadata": {
    "ExecuteTime": {
     "end_time": "2025-05-07T14:21:32.119077Z",
     "start_time": "2025-05-07T14:21:32.110577Z"
    }
   },
   "cell_type": "code",
   "source": [
    "img_df = pd.DataFrame(images, columns=['filename'])\n",
    "img_df"
   ],
   "id": "bceb301ec7e52094",
   "outputs": [
    {
     "data": {
      "text/plain": [
       "        filename\n",
       "0     007826.jpg\n",
       "1     002786.jpg\n",
       "2     006286.jpg\n",
       "3     002962.jpg\n",
       "4     008297.jpg\n",
       "...          ...\n",
       "5007  005782.jpg\n",
       "5008  000822.jpg\n",
       "5009  004488.jpg\n",
       "5010  005796.jpg\n",
       "5011  002947.jpg\n",
       "\n",
       "[5012 rows x 1 columns]"
      ],
      "text/html": [
       "<div>\n",
       "<style scoped>\n",
       "    .dataframe tbody tr th:only-of-type {\n",
       "        vertical-align: middle;\n",
       "    }\n",
       "\n",
       "    .dataframe tbody tr th {\n",
       "        vertical-align: top;\n",
       "    }\n",
       "\n",
       "    .dataframe thead th {\n",
       "        text-align: right;\n",
       "    }\n",
       "</style>\n",
       "<table border=\"1\" class=\"dataframe\">\n",
       "  <thead>\n",
       "    <tr style=\"text-align: right;\">\n",
       "      <th></th>\n",
       "      <th>filename</th>\n",
       "    </tr>\n",
       "  </thead>\n",
       "  <tbody>\n",
       "    <tr>\n",
       "      <th>0</th>\n",
       "      <td>007826.jpg</td>\n",
       "    </tr>\n",
       "    <tr>\n",
       "      <th>1</th>\n",
       "      <td>002786.jpg</td>\n",
       "    </tr>\n",
       "    <tr>\n",
       "      <th>2</th>\n",
       "      <td>006286.jpg</td>\n",
       "    </tr>\n",
       "    <tr>\n",
       "      <th>3</th>\n",
       "      <td>002962.jpg</td>\n",
       "    </tr>\n",
       "    <tr>\n",
       "      <th>4</th>\n",
       "      <td>008297.jpg</td>\n",
       "    </tr>\n",
       "    <tr>\n",
       "      <th>...</th>\n",
       "      <td>...</td>\n",
       "    </tr>\n",
       "    <tr>\n",
       "      <th>5007</th>\n",
       "      <td>005782.jpg</td>\n",
       "    </tr>\n",
       "    <tr>\n",
       "      <th>5008</th>\n",
       "      <td>000822.jpg</td>\n",
       "    </tr>\n",
       "    <tr>\n",
       "      <th>5009</th>\n",
       "      <td>004488.jpg</td>\n",
       "    </tr>\n",
       "    <tr>\n",
       "      <th>5010</th>\n",
       "      <td>005796.jpg</td>\n",
       "    </tr>\n",
       "    <tr>\n",
       "      <th>5011</th>\n",
       "      <td>002947.jpg</td>\n",
       "    </tr>\n",
       "  </tbody>\n",
       "</table>\n",
       "<p>5012 rows × 1 columns</p>\n",
       "</div>"
      ]
     },
     "execution_count": 24,
     "metadata": {},
     "output_type": "execute_result"
    }
   ],
   "execution_count": 24
  },
  {
   "metadata": {
    "ExecuteTime": {
     "end_time": "2025-05-07T14:21:32.164972Z",
     "start_time": "2025-05-07T14:21:32.158967Z"
    }
   },
   "cell_type": "code",
   "source": [
    "img_train = tuple(img_df.sample(frac=0.8)['filename'])\n",
    "len(img_train)"
   ],
   "id": "3c383811d29e05f6",
   "outputs": [
    {
     "data": {
      "text/plain": [
       "4010"
      ]
     },
     "execution_count": 25,
     "metadata": {},
     "output_type": "execute_result"
    }
   ],
   "execution_count": 25
  },
  {
   "metadata": {
    "ExecuteTime": {
     "end_time": "2025-05-07T14:21:32.238425Z",
     "start_time": "2025-05-07T14:21:32.192172Z"
    }
   },
   "cell_type": "code",
   "source": [
    "img_test = tuple(img_df.query(f'filename not in {img_train}')['filename'])\n",
    "len(img_test)"
   ],
   "id": "20aab79aad7fa769",
   "outputs": [
    {
     "data": {
      "text/plain": [
       "1002"
      ]
     },
     "execution_count": 26,
     "metadata": {},
     "output_type": "execute_result"
    }
   ],
   "execution_count": 26
  },
  {
   "metadata": {
    "ExecuteTime": {
     "end_time": "2025-05-07T14:21:32.250012Z",
     "start_time": "2025-05-07T14:21:32.241466Z"
    }
   },
   "cell_type": "code",
   "source": [
    "train_df = df.query('filename in @img_train')\n",
    "test_df = df.query('filename in @img_test')"
   ],
   "id": "a40fc931e1348979",
   "outputs": [],
   "execution_count": 27
  },
  {
   "metadata": {
    "ExecuteTime": {
     "end_time": "2025-05-07T14:21:32.266757Z",
     "start_time": "2025-05-07T14:21:32.263823Z"
    }
   },
   "cell_type": "code",
   "source": "train_df.shape",
   "id": "f12f3d410affe201",
   "outputs": [
    {
     "data": {
      "text/plain": [
       "(12594, 8)"
      ]
     },
     "execution_count": 28,
     "metadata": {},
     "output_type": "execute_result"
    }
   ],
   "execution_count": 28
  },
  {
   "metadata": {
    "ExecuteTime": {
     "end_time": "2025-05-07T14:21:32.284321Z",
     "start_time": "2025-05-07T14:21:32.280576Z"
    }
   },
   "cell_type": "code",
   "source": "test_df.shape",
   "id": "7f197ba6ebf65065",
   "outputs": [
    {
     "data": {
      "text/plain": [
       "(3069, 8)"
      ]
     },
     "execution_count": 29,
     "metadata": {},
     "output_type": "execute_result"
    }
   ],
   "execution_count": 29
  },
  {
   "metadata": {
    "ExecuteTime": {
     "end_time": "2025-05-07T14:22:21.409612Z",
     "start_time": "2025-05-07T14:22:21.405041Z"
    }
   },
   "cell_type": "code",
   "source": [
    "#Label encoding\n",
    "def label_encoding(x):\n",
    "    labels = {'person' : 0, 'car':1, 'chair': 2, 'bottle': 3, 'pottedplant':4, 'bird': 5, 'dog': 6,     'sofa':7, 'bicycle':8, 'horse':9, 'boat': 10, 'motorbike': 11, 'cat':12, 'tvmonitor':13, 'cow':14, 'sheep': 15, 'aeroplane': 16, 'train': 17, 'diningtable': 18, 'bus':19}\n",
    "    return labels [x]"
   ],
   "id": "9903d6de0ddbe5e1",
   "outputs": [],
   "execution_count": 35
  },
  {
   "metadata": {
    "ExecuteTime": {
     "end_time": "2025-05-07T14:22:23.188341Z",
     "start_time": "2025-05-07T14:22:23.157100Z"
    }
   },
   "cell_type": "code",
   "source": "train_df.loc[:, 'id'] = train_df['name'].apply(label_encoding)",
   "id": "ca697c46ff17d4d0",
   "outputs": [],
   "execution_count": 36
  },
  {
   "metadata": {
    "ExecuteTime": {
     "end_time": "2025-05-07T14:22:25.061914Z",
     "start_time": "2025-05-07T14:22:25.056301Z"
    }
   },
   "cell_type": "code",
   "source": "test_df.loc[:, 'id'] = test_df['name'].apply(label_encoding)",
   "id": "24bc4711f9130d3",
   "outputs": [],
   "execution_count": 37
  },
  {
   "metadata": {
    "ExecuteTime": {
     "end_time": "2025-05-07T14:22:27.989778Z",
     "start_time": "2025-05-07T14:22:27.982049Z"
    }
   },
   "cell_type": "code",
   "source": "train_df.head(10)",
   "id": "1750bc9f1cb6cd0c",
   "outputs": [
    {
     "data": {
      "text/plain": [
       "     filename width height         name xmin ymin xmax ymax  id\n",
       "0  007826.jpg   500    375  diningtable   80  217  320  273  18\n",
       "1  007826.jpg   500    375        chair  197  193  257  326   2\n",
       "2  007826.jpg   500    375        chair  139  184  185  231   2\n",
       "3  007826.jpg   500    375        chair  258  180  312  314   2\n",
       "4  007826.jpg   500    375        chair   10  195   93  358   2\n",
       "5  007826.jpg   500    375        chair   82  252  243  372   2\n",
       "6  007826.jpg   500    375        chair   43  319  144  375   2\n",
       "7  002786.jpg   500    332        horse   80   97  348  272   9\n",
       "8  002786.jpg   500    332       person  201   52  258  202   0\n",
       "9  006286.jpg   500    375       person   80   88  405  375   0"
      ],
      "text/html": [
       "<div>\n",
       "<style scoped>\n",
       "    .dataframe tbody tr th:only-of-type {\n",
       "        vertical-align: middle;\n",
       "    }\n",
       "\n",
       "    .dataframe tbody tr th {\n",
       "        vertical-align: top;\n",
       "    }\n",
       "\n",
       "    .dataframe thead th {\n",
       "        text-align: right;\n",
       "    }\n",
       "</style>\n",
       "<table border=\"1\" class=\"dataframe\">\n",
       "  <thead>\n",
       "    <tr style=\"text-align: right;\">\n",
       "      <th></th>\n",
       "      <th>filename</th>\n",
       "      <th>width</th>\n",
       "      <th>height</th>\n",
       "      <th>name</th>\n",
       "      <th>xmin</th>\n",
       "      <th>ymin</th>\n",
       "      <th>xmax</th>\n",
       "      <th>ymax</th>\n",
       "      <th>id</th>\n",
       "    </tr>\n",
       "  </thead>\n",
       "  <tbody>\n",
       "    <tr>\n",
       "      <th>0</th>\n",
       "      <td>007826.jpg</td>\n",
       "      <td>500</td>\n",
       "      <td>375</td>\n",
       "      <td>diningtable</td>\n",
       "      <td>80</td>\n",
       "      <td>217</td>\n",
       "      <td>320</td>\n",
       "      <td>273</td>\n",
       "      <td>18</td>\n",
       "    </tr>\n",
       "    <tr>\n",
       "      <th>1</th>\n",
       "      <td>007826.jpg</td>\n",
       "      <td>500</td>\n",
       "      <td>375</td>\n",
       "      <td>chair</td>\n",
       "      <td>197</td>\n",
       "      <td>193</td>\n",
       "      <td>257</td>\n",
       "      <td>326</td>\n",
       "      <td>2</td>\n",
       "    </tr>\n",
       "    <tr>\n",
       "      <th>2</th>\n",
       "      <td>007826.jpg</td>\n",
       "      <td>500</td>\n",
       "      <td>375</td>\n",
       "      <td>chair</td>\n",
       "      <td>139</td>\n",
       "      <td>184</td>\n",
       "      <td>185</td>\n",
       "      <td>231</td>\n",
       "      <td>2</td>\n",
       "    </tr>\n",
       "    <tr>\n",
       "      <th>3</th>\n",
       "      <td>007826.jpg</td>\n",
       "      <td>500</td>\n",
       "      <td>375</td>\n",
       "      <td>chair</td>\n",
       "      <td>258</td>\n",
       "      <td>180</td>\n",
       "      <td>312</td>\n",
       "      <td>314</td>\n",
       "      <td>2</td>\n",
       "    </tr>\n",
       "    <tr>\n",
       "      <th>4</th>\n",
       "      <td>007826.jpg</td>\n",
       "      <td>500</td>\n",
       "      <td>375</td>\n",
       "      <td>chair</td>\n",
       "      <td>10</td>\n",
       "      <td>195</td>\n",
       "      <td>93</td>\n",
       "      <td>358</td>\n",
       "      <td>2</td>\n",
       "    </tr>\n",
       "    <tr>\n",
       "      <th>5</th>\n",
       "      <td>007826.jpg</td>\n",
       "      <td>500</td>\n",
       "      <td>375</td>\n",
       "      <td>chair</td>\n",
       "      <td>82</td>\n",
       "      <td>252</td>\n",
       "      <td>243</td>\n",
       "      <td>372</td>\n",
       "      <td>2</td>\n",
       "    </tr>\n",
       "    <tr>\n",
       "      <th>6</th>\n",
       "      <td>007826.jpg</td>\n",
       "      <td>500</td>\n",
       "      <td>375</td>\n",
       "      <td>chair</td>\n",
       "      <td>43</td>\n",
       "      <td>319</td>\n",
       "      <td>144</td>\n",
       "      <td>375</td>\n",
       "      <td>2</td>\n",
       "    </tr>\n",
       "    <tr>\n",
       "      <th>7</th>\n",
       "      <td>002786.jpg</td>\n",
       "      <td>500</td>\n",
       "      <td>332</td>\n",
       "      <td>horse</td>\n",
       "      <td>80</td>\n",
       "      <td>97</td>\n",
       "      <td>348</td>\n",
       "      <td>272</td>\n",
       "      <td>9</td>\n",
       "    </tr>\n",
       "    <tr>\n",
       "      <th>8</th>\n",
       "      <td>002786.jpg</td>\n",
       "      <td>500</td>\n",
       "      <td>332</td>\n",
       "      <td>person</td>\n",
       "      <td>201</td>\n",
       "      <td>52</td>\n",
       "      <td>258</td>\n",
       "      <td>202</td>\n",
       "      <td>0</td>\n",
       "    </tr>\n",
       "    <tr>\n",
       "      <th>9</th>\n",
       "      <td>006286.jpg</td>\n",
       "      <td>500</td>\n",
       "      <td>375</td>\n",
       "      <td>person</td>\n",
       "      <td>80</td>\n",
       "      <td>88</td>\n",
       "      <td>405</td>\n",
       "      <td>375</td>\n",
       "      <td>0</td>\n",
       "    </tr>\n",
       "  </tbody>\n",
       "</table>\n",
       "</div>"
      ]
     },
     "execution_count": 38,
     "metadata": {},
     "output_type": "execute_result"
    }
   ],
   "execution_count": 38
  },
  {
   "metadata": {
    "ExecuteTime": {
     "end_time": "2025-05-07T14:22:30.658203Z",
     "start_time": "2025-05-07T14:22:30.650297Z"
    }
   },
   "cell_type": "code",
   "source": "test_df.head(10)",
   "id": "a12d46855e064d8e",
   "outputs": [
    {
     "data": {
      "text/plain": [
       "      filename width height         name xmin ymin xmax ymax  id\n",
       "45  006523.jpg   500    375    aeroplane  189  186  312  230  16\n",
       "69  000620.jpg   500    344          car  114  182  303  309   1\n",
       "70  000620.jpg   500    344          car   51  267   71  280   1\n",
       "71  000620.jpg   500    344          car   19  272   36  284   1\n",
       "93  005016.jpg   500    333    aeroplane   10  121  196  183  16\n",
       "94  005016.jpg   500    333    aeroplane  119   53  489  190  16\n",
       "95  003301.jpg   500    333       person   97   41  271  333   0\n",
       "96  003301.jpg   500    333          dog  104  196  236  294   6\n",
       "97  003301.jpg   500    333        chair   96  190  291  333   2\n",
       "98  003301.jpg   500    333  pottedplant    4  110  109  309   4"
      ],
      "text/html": [
       "<div>\n",
       "<style scoped>\n",
       "    .dataframe tbody tr th:only-of-type {\n",
       "        vertical-align: middle;\n",
       "    }\n",
       "\n",
       "    .dataframe tbody tr th {\n",
       "        vertical-align: top;\n",
       "    }\n",
       "\n",
       "    .dataframe thead th {\n",
       "        text-align: right;\n",
       "    }\n",
       "</style>\n",
       "<table border=\"1\" class=\"dataframe\">\n",
       "  <thead>\n",
       "    <tr style=\"text-align: right;\">\n",
       "      <th></th>\n",
       "      <th>filename</th>\n",
       "      <th>width</th>\n",
       "      <th>height</th>\n",
       "      <th>name</th>\n",
       "      <th>xmin</th>\n",
       "      <th>ymin</th>\n",
       "      <th>xmax</th>\n",
       "      <th>ymax</th>\n",
       "      <th>id</th>\n",
       "    </tr>\n",
       "  </thead>\n",
       "  <tbody>\n",
       "    <tr>\n",
       "      <th>45</th>\n",
       "      <td>006523.jpg</td>\n",
       "      <td>500</td>\n",
       "      <td>375</td>\n",
       "      <td>aeroplane</td>\n",
       "      <td>189</td>\n",
       "      <td>186</td>\n",
       "      <td>312</td>\n",
       "      <td>230</td>\n",
       "      <td>16</td>\n",
       "    </tr>\n",
       "    <tr>\n",
       "      <th>69</th>\n",
       "      <td>000620.jpg</td>\n",
       "      <td>500</td>\n",
       "      <td>344</td>\n",
       "      <td>car</td>\n",
       "      <td>114</td>\n",
       "      <td>182</td>\n",
       "      <td>303</td>\n",
       "      <td>309</td>\n",
       "      <td>1</td>\n",
       "    </tr>\n",
       "    <tr>\n",
       "      <th>70</th>\n",
       "      <td>000620.jpg</td>\n",
       "      <td>500</td>\n",
       "      <td>344</td>\n",
       "      <td>car</td>\n",
       "      <td>51</td>\n",
       "      <td>267</td>\n",
       "      <td>71</td>\n",
       "      <td>280</td>\n",
       "      <td>1</td>\n",
       "    </tr>\n",
       "    <tr>\n",
       "      <th>71</th>\n",
       "      <td>000620.jpg</td>\n",
       "      <td>500</td>\n",
       "      <td>344</td>\n",
       "      <td>car</td>\n",
       "      <td>19</td>\n",
       "      <td>272</td>\n",
       "      <td>36</td>\n",
       "      <td>284</td>\n",
       "      <td>1</td>\n",
       "    </tr>\n",
       "    <tr>\n",
       "      <th>93</th>\n",
       "      <td>005016.jpg</td>\n",
       "      <td>500</td>\n",
       "      <td>333</td>\n",
       "      <td>aeroplane</td>\n",
       "      <td>10</td>\n",
       "      <td>121</td>\n",
       "      <td>196</td>\n",
       "      <td>183</td>\n",
       "      <td>16</td>\n",
       "    </tr>\n",
       "    <tr>\n",
       "      <th>94</th>\n",
       "      <td>005016.jpg</td>\n",
       "      <td>500</td>\n",
       "      <td>333</td>\n",
       "      <td>aeroplane</td>\n",
       "      <td>119</td>\n",
       "      <td>53</td>\n",
       "      <td>489</td>\n",
       "      <td>190</td>\n",
       "      <td>16</td>\n",
       "    </tr>\n",
       "    <tr>\n",
       "      <th>95</th>\n",
       "      <td>003301.jpg</td>\n",
       "      <td>500</td>\n",
       "      <td>333</td>\n",
       "      <td>person</td>\n",
       "      <td>97</td>\n",
       "      <td>41</td>\n",
       "      <td>271</td>\n",
       "      <td>333</td>\n",
       "      <td>0</td>\n",
       "    </tr>\n",
       "    <tr>\n",
       "      <th>96</th>\n",
       "      <td>003301.jpg</td>\n",
       "      <td>500</td>\n",
       "      <td>333</td>\n",
       "      <td>dog</td>\n",
       "      <td>104</td>\n",
       "      <td>196</td>\n",
       "      <td>236</td>\n",
       "      <td>294</td>\n",
       "      <td>6</td>\n",
       "    </tr>\n",
       "    <tr>\n",
       "      <th>97</th>\n",
       "      <td>003301.jpg</td>\n",
       "      <td>500</td>\n",
       "      <td>333</td>\n",
       "      <td>chair</td>\n",
       "      <td>96</td>\n",
       "      <td>190</td>\n",
       "      <td>291</td>\n",
       "      <td>333</td>\n",
       "      <td>2</td>\n",
       "    </tr>\n",
       "    <tr>\n",
       "      <th>98</th>\n",
       "      <td>003301.jpg</td>\n",
       "      <td>500</td>\n",
       "      <td>333</td>\n",
       "      <td>pottedplant</td>\n",
       "      <td>4</td>\n",
       "      <td>110</td>\n",
       "      <td>109</td>\n",
       "      <td>309</td>\n",
       "      <td>4</td>\n",
       "    </tr>\n",
       "  </tbody>\n",
       "</table>\n",
       "</div>"
      ]
     },
     "execution_count": 39,
     "metadata": {},
     "output_type": "execute_result"
    }
   ],
   "execution_count": 39
  },
  {
   "metadata": {
    "ExecuteTime": {
     "end_time": "2025-05-07T14:21:32.449102Z",
     "start_time": "2025-05-07T14:21:32.447424Z"
    }
   },
   "cell_type": "code",
   "source": "",
   "id": "e5b3c8b3be283ef3",
   "outputs": [],
   "execution_count": null
  }
 ],
 "metadata": {
  "kernelspec": {
   "display_name": "Python 3",
   "language": "python",
   "name": "python3"
  },
  "language_info": {
   "codemirror_mode": {
    "name": "ipython",
    "version": 2
   },
   "file_extension": ".py",
   "mimetype": "text/x-python",
   "name": "python",
   "nbconvert_exporter": "python",
   "pygments_lexer": "ipython2",
   "version": "2.7.6"
  }
 },
 "nbformat": 4,
 "nbformat_minor": 5
}
